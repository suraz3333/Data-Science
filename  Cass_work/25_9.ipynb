{
 "cells": [
  {
   "cell_type": "markdown",
   "id": "24b76fca-d12e-4d07-bfdf-ef2e78c76310",
   "metadata": {},
   "source": [
    "slicing \n",
    "## hello"
   ]
  },
  {
   "cell_type": "code",
   "execution_count": 1,
   "id": "cce2658a-5742-484d-be77-403f0865c017",
   "metadata": {},
   "outputs": [],
   "source": [
    "## Slicing "
   ]
  },
  {
   "cell_type": "markdown",
   "id": "588429ce-92db-4f58-bbc1-4ef6a93aafe9",
   "metadata": {},
   "source": [
    "## Slicing "
   ]
  },
  {
   "cell_type": "code",
   "execution_count": 2,
   "id": "1d957e50-0dda-4e7c-8458-ad6ca8ba8892",
   "metadata": {},
   "outputs": [
    {
     "ename": "NameError",
     "evalue": "name 'np' is not defined",
     "output_type": "error",
     "traceback": [
      "\u001b[1;31m---------------------------------------------------------------------------\u001b[0m",
      "\u001b[1;31mNameError\u001b[0m                                 Traceback (most recent call last)",
      "Cell \u001b[1;32mIn[2], line 1\u001b[0m\n\u001b[1;32m----> 1\u001b[0m a\u001b[38;5;241m=\u001b[39m \u001b[43mnp\u001b[49m\u001b[38;5;241m.\u001b[39marray([\u001b[38;5;241m1\u001b[39m,\u001b[38;5;241m5\u001b[39m,\u001b[38;5;241m3\u001b[39m,\u001b[38;5;241m7\u001b[39m])\n",
      "\u001b[1;31mNameError\u001b[0m: name 'np' is not defined"
     ]
    }
   ],
   "source": [
    "a= np.array([1,5,3,7])"
   ]
  },
  {
   "cell_type": "code",
   "execution_count": 3,
   "id": "d57ddbff-c6ac-4c68-9095-c76361840d1d",
   "metadata": {},
   "outputs": [],
   "source": [
    "import numpy as np "
   ]
  },
  {
   "cell_type": "code",
   "execution_count": 4,
   "id": "4e045998-9bd7-4523-b172-74a3ba28d6c7",
   "metadata": {},
   "outputs": [],
   "source": [
    "a = np.array([1,5,3,7])"
   ]
  },
  {
   "cell_type": "code",
   "execution_count": 5,
   "id": "8517a5ce-3bed-4997-a11a-99fa11d68e85",
   "metadata": {},
   "outputs": [
    {
     "name": "stdout",
     "output_type": "stream",
     "text": [
      "1\n"
     ]
    }
   ],
   "source": [
    "print (a[0])"
   ]
  },
  {
   "cell_type": "code",
   "execution_count": 6,
   "id": "9b00a87c-69b6-4cf5-85e8-d1e2b7b89e5b",
   "metadata": {},
   "outputs": [
    {
     "name": "stdout",
     "output_type": "stream",
     "text": [
      "[5 7]\n"
     ]
    }
   ],
   "source": [
    "print(a[1::2])"
   ]
  },
  {
   "cell_type": "code",
   "execution_count": 14,
   "id": "fb92eda7-d254-40c8-b574-5e401b4ac7e0",
   "metadata": {},
   "outputs": [
    {
     "data": {
      "text/plain": [
       "array([[ 2,  5,  7,  4],\n",
       "       [ 4,  9, 11, 82],\n",
       "       [64,  6, 34, 99],\n",
       "       [65,  6, 34, 99]])"
      ]
     },
     "execution_count": 14,
     "metadata": {},
     "output_type": "execute_result"
    }
   ],
   "source": [
    "#2D ARRAY>SIMILAR TO MATRIX \n",
    "list2=([[2,5,7,4],[4,9,11,82],[64,6,34,99],[65,6,34,99]])\n",
    "array2=np.array(list2)\n",
    "array2"
   ]
  },
  {
   "cell_type": "code",
   "execution_count": 15,
   "id": "85c42190-3833-491d-b6cd-000a767188dc",
   "metadata": {},
   "outputs": [
    {
     "name": "stdout",
     "output_type": "stream",
     "text": [
      "11\n"
     ]
    }
   ],
   "source": [
    "print (array2[1][2])\n"
   ]
  },
  {
   "cell_type": "code",
   "execution_count": 16,
   "id": "7c9093e1-0b70-45ea-afab-19c1ec13e69d",
   "metadata": {},
   "outputs": [
    {
     "data": {
      "text/plain": [
       "(4, 4)"
      ]
     },
     "execution_count": 16,
     "metadata": {},
     "output_type": "execute_result"
    }
   ],
   "source": [
    "array2.shape"
   ]
  },
  {
   "cell_type": "code",
   "execution_count": 17,
   "id": "64acdbbe-3303-4530-82ea-7aa3be34c8cc",
   "metadata": {},
   "outputs": [
    {
     "name": "stdout",
     "output_type": "stream",
     "text": [
      "[[ 5  7]\n",
      " [ 6 34]]\n"
     ]
    }
   ],
   "source": [
    "# print (array2[<row_slice>,<col_slice>])\n",
    "print (array2[::2,1:3])"
   ]
  },
  {
   "cell_type": "code",
   "execution_count": 18,
   "id": "ac83f224-0540-495d-8549-9e11b8fa4e81",
   "metadata": {},
   "outputs": [],
   "source": [
    "#ND Array\n",
    "random_array =np.random.randint(low=10,high=50,size=(2,3,4))"
   ]
  },
  {
   "cell_type": "code",
   "execution_count": 19,
   "id": "77dbab09-f74a-4da0-ade9-a00ef2de168c",
   "metadata": {},
   "outputs": [
    {
     "name": "stdout",
     "output_type": "stream",
     "text": [
      "[[[36 47 17 26]\n",
      "  [32 38 45 47]\n",
      "  [41 32 32 23]]\n",
      "\n",
      " [[45 14 23 24]\n",
      "  [49 14 16 22]\n",
      "  [36 41 12 10]]]\n"
     ]
    }
   ],
   "source": [
    "print (random_array)"
   ]
  },
  {
   "cell_type": "code",
   "execution_count": 22,
   "id": "7905a3b3-99c7-4dd4-a82d-85f8e4caecfc",
   "metadata": {},
   "outputs": [
    {
     "name": "stdout",
     "output_type": "stream",
     "text": [
      "[[[36 47 17 26]\n",
      "  [32 38 45 47]\n",
      "  [41 32 32 23]]]\n"
     ]
    }
   ],
   "source": [
    "# Find element : 1st Matrix ,2*2 element \n",
    "print (random_array[::2,:3,:4])"
   ]
  },
  {
   "cell_type": "code",
   "execution_count": 23,
   "id": "9aae9a1b-fdb3-4219-bee4-23375a981bd6",
   "metadata": {},
   "outputs": [
    {
     "name": "stdout",
     "output_type": "stream",
     "text": [
      "[[45 14 23 24]]\n"
     ]
    }
   ],
   "source": [
    "print (random_array[-1,:-2,:4])"
   ]
  },
  {
   "cell_type": "code",
   "execution_count": 24,
   "id": "961f8c4b-6b1c-472d-bb74-e5d8d8ed45dc",
   "metadata": {
    "scrolled": true
   },
   "outputs": [
    {
     "name": "stdout",
     "output_type": "stream",
     "text": [
      "(10, 16, 8)\n"
     ]
    }
   ],
   "source": [
    "random_array1=np.random.randint(low=10,high=50,size=(10,16,8))\n",
    "print (random_array1.shape)"
   ]
  },
  {
   "cell_type": "code",
   "execution_count": 26,
   "id": "5fe49b17-36cb-4619-a24d-261f554f5132",
   "metadata": {},
   "outputs": [
    {
     "data": {
      "text/plain": [
       "array([[[49, 49, 45, 45, 33, 37, 22, 36],\n",
       "        [15, 46, 23, 31, 18, 24, 11, 33]]], dtype=int32)"
      ]
     },
     "execution_count": 26,
     "metadata": {},
     "output_type": "execute_result"
    }
   ],
   "source": [
    "random_array1[4:5,-2:]"
   ]
  },
  {
   "cell_type": "markdown",
   "id": "dc06158a-82dc-40fa-8ccb-27365f1f2607",
   "metadata": {},
   "source": [
    "## Boolen or Mask Indexing "
   ]
  },
  {
   "cell_type": "code",
   "execution_count": 33,
   "id": "19864c58-f838-40eb-ad9a-a13c75c6392d",
   "metadata": {},
   "outputs": [
    {
     "name": "stdout",
     "output_type": "stream",
     "text": [
      "[[1 2]\n",
      " [2 4]\n",
      " [4 5]]\n"
     ]
    }
   ],
   "source": [
    "a=np.array([[1,2],[2,4],[4,5]])\n",
    "mask=np.array([True,False,True])\n",
    "print (a)"
   ]
  },
  {
   "cell_type": "code",
   "execution_count": 29,
   "id": "16e64935-4941-4d88-87c3-744df0726ef2",
   "metadata": {},
   "outputs": [
    {
     "data": {
      "text/plain": [
       "array([[False, False],\n",
       "       [False, False],\n",
       "       [False,  True]])"
      ]
     },
     "execution_count": 29,
     "metadata": {},
     "output_type": "execute_result"
    }
   ],
   "source": [
    "a==5"
   ]
  },
  {
   "cell_type": "code",
   "execution_count": 30,
   "id": "61c0c609-dcc9-48c5-a3ef-6d9507f06c15",
   "metadata": {},
   "outputs": [],
   "source": [
    "mask =a<4"
   ]
  },
  {
   "cell_type": "code",
   "execution_count": 31,
   "id": "b9072730-2c29-4f50-931b-aefea1943764",
   "metadata": {},
   "outputs": [
    {
     "name": "stdout",
     "output_type": "stream",
     "text": [
      "[1 2 2]\n"
     ]
    }
   ],
   "source": [
    "print (a[mask])"
   ]
  },
  {
   "cell_type": "code",
   "execution_count": 32,
   "id": "e82a13f0-8454-4e64-ae87-aca524ae6559",
   "metadata": {},
   "outputs": [
    {
     "data": {
      "text/plain": [
       "array([[ True,  True],\n",
       "       [ True, False],\n",
       "       [False, False]])"
      ]
     },
     "execution_count": 32,
     "metadata": {},
     "output_type": "execute_result"
    }
   ],
   "source": [
    "mask"
   ]
  },
  {
   "cell_type": "code",
   "execution_count": 34,
   "id": "1f4ed49d-ac97-45eb-84c2-34e422add1fd",
   "metadata": {},
   "outputs": [
    {
     "data": {
      "text/plain": [
       "array([[[32, 18, 32],\n",
       "        [40, 10, 18]],\n",
       "\n",
       "       [[19, 10, 13],\n",
       "        [38, 46, 16]],\n",
       "\n",
       "       [[34, 10, 16],\n",
       "        [21, 47, 43]],\n",
       "\n",
       "       [[44, 27, 25],\n",
       "        [35, 28, 40]],\n",
       "\n",
       "       [[31, 48, 37],\n",
       "        [11, 18, 18]]], dtype=int32)"
      ]
     },
     "execution_count": 34,
     "metadata": {},
     "output_type": "execute_result"
    }
   ],
   "source": [
    "arr= np.random.randint(low =10,high =50,size=(5,2,3))\n",
    "arr"
   ]
  },
  {
   "cell_type": "code",
   "execution_count": 35,
   "id": "f33add38-d253-4e25-8ee7-fc8bcaa15203",
   "metadata": {},
   "outputs": [
    {
     "data": {
      "text/plain": [
       "(5, 2, 3)"
      ]
     },
     "execution_count": 35,
     "metadata": {},
     "output_type": "execute_result"
    }
   ],
   "source": [
    "arr.shape"
   ]
  },
  {
   "cell_type": "code",
   "execution_count": 36,
   "id": "5b4d9abd-b50f-489c-88b7-8aa7320c3193",
   "metadata": {},
   "outputs": [
    {
     "data": {
      "text/plain": [
       "dtype('int32')"
      ]
     },
     "execution_count": 36,
     "metadata": {},
     "output_type": "execute_result"
    }
   ],
   "source": [
    "arr.dtype"
   ]
  },
  {
   "cell_type": "code",
   "execution_count": 37,
   "id": "ee78c5ab-b15c-4437-afc7-b05fa421edf1",
   "metadata": {},
   "outputs": [
    {
     "data": {
      "text/plain": [
       "3"
      ]
     },
     "execution_count": 37,
     "metadata": {},
     "output_type": "execute_result"
    }
   ],
   "source": [
    "arr.ndim"
   ]
  },
  {
   "cell_type": "code",
   "execution_count": 40,
   "id": "e6744908-ebcf-4ef2-a58d-addf9b739eb3",
   "metadata": {},
   "outputs": [
    {
     "data": {
      "text/plain": [
       "array([[[32, 19, 34, 44, 31],\n",
       "        [40, 38, 21, 35, 11]],\n",
       "\n",
       "       [[18, 10, 10, 27, 48],\n",
       "        [10, 46, 47, 28, 18]],\n",
       "\n",
       "       [[32, 13, 16, 25, 37],\n",
       "        [18, 16, 43, 40, 18]]], dtype=int32)"
      ]
     },
     "execution_count": 40,
     "metadata": {},
     "output_type": "execute_result"
    }
   ],
   "source": [
    "arr.T"
   ]
  },
  {
   "cell_type": "code",
   "execution_count": 44,
   "id": "e66e992d-5fdc-4f34-a22b-6058acfc8e9f",
   "metadata": {},
   "outputs": [
    {
     "data": {
      "text/plain": [
       "array([[[32, 18, 32],\n",
       "        [40, 10, 18]],\n",
       "\n",
       "       [[19, 10, 13],\n",
       "        [38, 46, 16]],\n",
       "\n",
       "       [[34, 10, 16],\n",
       "        [21, 47, 43]],\n",
       "\n",
       "       [[44, 27, 25],\n",
       "        [35, 28, 40]],\n",
       "\n",
       "       [[31, 48, 37],\n",
       "        [11, 18, 18]]], dtype=int32)"
      ]
     },
     "execution_count": 44,
     "metadata": {},
     "output_type": "execute_result"
    }
   ],
   "source": [
    "arr.reshape((5,2,3))"
   ]
  },
  {
   "cell_type": "code",
   "execution_count": 46,
   "id": "7513ed02-421d-495f-9b58-226e6b1e9ef5",
   "metadata": {},
   "outputs": [
    {
     "data": {
      "text/plain": [
       "(3, 5, 2)"
      ]
     },
     "execution_count": 46,
     "metadata": {},
     "output_type": "execute_result"
    }
   ],
   "source": [
    "new_arr=arr.reshape((3,5,2))\n",
    "new_arr.shape"
   ]
  },
  {
   "cell_type": "code",
   "execution_count": 48,
   "id": "23eff55e-d46d-472a-92ca-881b1fce834e",
   "metadata": {},
   "outputs": [
    {
     "data": {
      "text/plain": [
       "(30,)"
      ]
     },
     "execution_count": 48,
     "metadata": {},
     "output_type": "execute_result"
    }
   ],
   "source": [
    "flat_arr =new_arr.flatten()\n",
    "flat_arr.shape"
   ]
  },
  {
   "cell_type": "code",
   "execution_count": 50,
   "id": "7c25a3e5-c47a-4722-9485-31a01c730356",
   "metadata": {},
   "outputs": [
    {
     "data": {
      "text/plain": [
       "array([[160, 113, 123],\n",
       "       [145, 149, 135]])"
      ]
     },
     "execution_count": 50,
     "metadata": {},
     "output_type": "execute_result"
    }
   ],
   "source": [
    "arr.sum(axis=0)"
   ]
  },
  {
   "cell_type": "code",
   "execution_count": 49,
   "id": "8a32cd8d-b84d-4a4c-8f6a-11ae0cd5dad5",
   "metadata": {},
   "outputs": [
    {
     "ename": "SyntaxError",
     "evalue": "incomplete input (4294018038.py, line 1)",
     "output_type": "error",
     "traceback": [
      "\u001b[1;36m  Cell \u001b[1;32mIn[49], line 1\u001b[1;36m\u001b[0m\n\u001b[1;33m    print (arr.sum(axis=0)\u001b[0m\n\u001b[1;37m                          ^\u001b[0m\n\u001b[1;31mSyntaxError\u001b[0m\u001b[1;31m:\u001b[0m incomplete input\n"
     ]
    }
   ],
   "source": [
    "print (arr.sum(axis=0)"
   ]
  },
  {
   "cell_type": "code",
   "execution_count": 51,
   "id": "174f1fec-240b-45fe-8886-754bf7df7a3c",
   "metadata": {},
   "outputs": [
    {
     "ename": "NameError",
     "evalue": "name 'arr3' is not defined",
     "output_type": "error",
     "traceback": [
      "\u001b[1;31m---------------------------------------------------------------------------\u001b[0m",
      "\u001b[1;31mNameError\u001b[0m                                 Traceback (most recent call last)",
      "Cell \u001b[1;32mIn[51], line 1\u001b[0m\n\u001b[1;32m----> 1\u001b[0m \u001b[43marr3\u001b[49m\u001b[38;5;241m.\u001b[39mprod(axis\u001b[38;5;241m=\u001b[39m\u001b[38;5;241m1\u001b[39m)\n",
      "\u001b[1;31mNameError\u001b[0m: name 'arr3' is not defined"
     ]
    }
   ],
   "source": [
    "arr3.prod(axis=1)"
   ]
  },
  {
   "cell_type": "code",
   "execution_count": null,
   "id": "ba51fb4b-e296-43d5-bc15-bfe58633054f",
   "metadata": {},
   "outputs": [],
   "source": []
  }
 ],
 "metadata": {
  "kernelspec": {
   "display_name": "Python 3 (ipykernel)",
   "language": "python",
   "name": "python3"
  },
  "language_info": {
   "codemirror_mode": {
    "name": "ipython",
    "version": 3
   },
   "file_extension": ".py",
   "mimetype": "text/x-python",
   "name": "python",
   "nbconvert_exporter": "python",
   "pygments_lexer": "ipython3",
   "version": "3.12.2"
  }
 },
 "nbformat": 4,
 "nbformat_minor": 5
}
