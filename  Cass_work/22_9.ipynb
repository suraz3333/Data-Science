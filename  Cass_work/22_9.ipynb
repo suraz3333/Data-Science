{
 "cells": [
  {
   "cell_type": "code",
   "execution_count": null,
   "id": "da99b6eb-e9af-46c2-8a12-7cd03408624d",
   "metadata": {},
   "outputs": [],
   "source": [
    "class ImageClassifier\n",
    "    @property\n",
    "    def  model (seif,path):\n",
    "        return  model (self.path)\n"
   ]
  },
  {
   "cell_type": "code",
   "execution_count": 1,
   "id": "123bd2c1-1f28-4859-9969-23fb9c8c1e28",
   "metadata": {},
   "outputs": [
    {
     "ename": "NameError",
     "evalue": "name 'ls2' is not defined",
     "output_type": "error",
     "traceback": [
      "\u001b[1;31m---------------------------------------------------------------------------\u001b[0m",
      "\u001b[1;31mNameError\u001b[0m                                 Traceback (most recent call last)",
      "Cell \u001b[1;32mIn[1], line 2\u001b[0m\n\u001b[0;32m      1\u001b[0m ls1\u001b[38;5;241m=\u001b[39m{\u001b[38;5;241m1\u001b[39m,\u001b[38;5;241m47\u001b[39m}\n\u001b[1;32m----> 2\u001b[0m ls1\u001b[38;5;241m=\u001b[39m\u001b[43mls2\u001b[49m\u001b[38;5;241m.\u001b[39mcopy\n",
      "\u001b[1;31mNameError\u001b[0m: name 'ls2' is not defined"
     ]
    }
   ],
   "source": [
    "ls1={1,47}\n",
    "ls1=ls2.copy"
   ]
  },
  {
   "cell_type": "code",
   "execution_count": null,
   "id": "748faf52-36a5-4a14-8b97-be9768627920",
   "metadata": {},
   "outputs": [],
   "source": []
  }
 ],
 "metadata": {
  "kernelspec": {
   "display_name": "Python 3 (ipykernel)",
   "language": "python",
   "name": "python3"
  },
  "language_info": {
   "codemirror_mode": {
    "name": "ipython",
    "version": 3
   },
   "file_extension": ".py",
   "mimetype": "text/x-python",
   "name": "python",
   "nbconvert_exporter": "python",
   "pygments_lexer": "ipython3",
   "version": "3.12.2"
  }
 },
 "nbformat": 4,
 "nbformat_minor": 5
}
