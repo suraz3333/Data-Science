{
 "cells": [
  {
   "cell_type": "code",
   "execution_count": 1,
   "id": "ea88673d-f911-4806-938d-6d4c097c1a5d",
   "metadata": {},
   "outputs": [
    {
     "ename": "NameError",
     "evalue": "name 'a' is not defined",
     "output_type": "error",
     "traceback": [
      "\u001b[1;31m---------------------------------------------------------------------------\u001b[0m",
      "\u001b[1;31mNameError\u001b[0m                                 Traceback (most recent call last)",
      "Cell \u001b[1;32mIn[1], line 1\u001b[0m\n\u001b[1;32m----> 1\u001b[0m \u001b[38;5;28mint\u001b[39m (\u001b[43ma\u001b[49m)\n",
      "\u001b[1;31mNameError\u001b[0m: name 'a' is not defined"
     ]
    }
   ],
   "source": [
    "int (a)\n"
   ]
  },
  {
   "cell_type": "code",
   "execution_count": 6,
   "id": "82ea0663-0779-429c-8265-d6f4aa781075",
   "metadata": {},
   "outputs": [
    {
     "name": "stdout",
     "output_type": "stream",
     "text": [
      "a\n",
      "b\n",
      "c\n",
      "d\n",
      "Length of list 4, index 5 not acessible\n"
     ]
    }
   ],
   "source": [
    "lst =['a','b','c','d']\n",
    "try :\n",
    "    for i in range (5):\n",
    "        print (lst[i])\n",
    "except IndexError:\n",
    "    print(f\"Length of list {len(lst)}, index {i+1} not acessible\")"
   ]
  },
  {
   "cell_type": "code",
   "execution_count": 8,
   "id": "e80d6c06-8b16-4a5f-99c2-1f43e24e66b9",
   "metadata": {},
   "outputs": [],
   "source": [
    "class UserNotFoundError(Exception):\n",
    "    pass "
   ]
  },
  {
   "cell_type": "code",
   "execution_count": 9,
   "id": "9b92421a-4e21-4930-a823-535a8cd0a4e6",
   "metadata": {},
   "outputs": [],
   "source": [
    "def get_user(user_id):\n",
    "    try:\n",
    "        raise UserNotFoundError (f\"User not found\")\n",
    "    except UserNotFound as ex:\n",
    "        print(\"Not FOund\")"
   ]
  },
  {
   "cell_type": "code",
   "execution_count": null,
   "id": "dd315377-e7c7-40ee-9c5d-2261fe551ac7",
   "metadata": {},
   "outputs": [],
   "source": [
    "def divide (x,y)\n",
    "    ''' The script will add 50 to the list and divide the individual value in the list by 3 and display the result \n",
    "    '''\n",
    "    "
   ]
  },
  {
   "cell_type": "code",
   "execution_count": null,
   "id": "b68d3533",
   "metadata": {},
   "outputs": [],
   "source": [
    " import pandas "
   ]
  },
  {
   "cell_type": "code",
   "execution_count": null,
   "id": "fef13294-cbcf-412e-a28e-33a17f49edc1",
   "metadata": {},
   "outputs": [],
   "source": [
    "import pandas as pd"
   ]
  },
  {
   "cell_type": "code",
   "execution_count": null,
   "id": "3b33dc23-116e-4e76-a99c-f55299d0560f",
   "metadata": {},
   "outputs": [],
   "source": [
    "pd.__version__"
   ]
  },
  {
   "cell_type": "code",
   "execution_count": null,
   "id": "c18f4be5-e41c-4bb1-87c2-59435376b664",
   "metadata": {},
   "outputs": [],
   "source": []
  }
 ],
 "metadata": {
  "kernelspec": {
   "display_name": "Python 3 (ipykernel)",
   "language": "python",
   "name": "python3"
  },
  "language_info": {
   "codemirror_mode": {
    "name": "ipython",
    "version": 3
   },
   "file_extension": ".py",
   "mimetype": "text/x-python",
   "name": "python",
   "nbconvert_exporter": "python",
   "pygments_lexer": "ipython3",
   "version": "3.12.2"
  }
 },
 "nbformat": 4,
 "nbformat_minor": 5
}
