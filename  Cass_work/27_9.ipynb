{
 "cells": [
  {
   "cell_type": "code",
   "execution_count": 1,
   "id": "5c958f37-34d3-49fc-846a-0c4bc8b7861e",
   "metadata": {},
   "outputs": [],
   "source": [
    "import numpy as np \n",
    "import time \n",
    "\n",
    "a=np.random.rand(1000000)\n",
    "b=np.random.rand(1000000)\n"
   ]
  },
  {
   "cell_type": "code",
   "execution_count": 2,
   "id": "399f9fbb-997b-4ac5-bbd0-0f27e71afeb1",
   "metadata": {},
   "outputs": [
    {
     "name": "stdout",
     "output_type": "stream",
     "text": [
      "Time Taken by python loop:0.30682802200317383\n"
     ]
    }
   ],
   "source": [
    "# Using pure python for loop \n",
    "lsa = list (a)\n",
    "lsb= list (b)\n",
    "res =[]\n",
    "\n",
    "start= time.time()\n",
    "for i in range(len(lsa)):\n",
    "    res.append(lsa[i]*lsb[1])\n",
    "end= time.time()\n",
    "print(f\"Time Taken by lsit python loop:{end-start}\")"
   ]
  },
  {
   "cell_type": "code",
   "execution_count": 3,
   "id": "3901edf5-c4b6-476b-95e1-8417709ed588",
   "metadata": {},
   "outputs": [
    {
     "name": "stdout",
     "output_type": "stream",
     "text": [
      "Time Taken by list comprehension: 0.2688446044921875\n"
     ]
    }
   ],
   "source": [
    "#Using list compherhension \n",
    "lsa = list(a)\n",
    "lsb = list(b)\n",
    "\n",
    "start = time.time()\n",
    "res = [lsa[i] * lsb[i] for i in range(len(lsa))]  # List comprehension\n",
    "end = time.time()\n",
    "print(f\"Time Taken by list comprehension: {end - start}\")"
   ]
  },
  {
   "cell_type": "code",
   "execution_count": 6,
   "id": "703a79be-5bd4-4901-995d-6626c1e4f42d",
   "metadata": {},
   "outputs": [
    {
     "name": "stdout",
     "output_type": "stream",
     "text": [
      "Time Taken by map function: round 0.25485873222351074\n"
     ]
    }
   ],
   "source": [
    "lsa = list(a)\n",
    "lsb = list(b)\n",
    "\n",
    "start = time.time()\n",
    "res = list(map(lambda x, y: x * y, lsa, lsb))  # Using map function\n",
    "end = time.time()\n",
    "print(f\"Time Taken by map function:{end - start}\")"
   ]
  },
  {
   "cell_type": "code",
   "execution_count": 8,
   "id": "450190a7-61bd-445c-a35d-080279a304d3",
   "metadata": {},
   "outputs": [
    {
     "name": "stdout",
     "output_type": "stream",
     "text": [
      "Time Taken by NumPy: 0.006997823715209961\n"
     ]
    }
   ],
   "source": [
    "\n",
    "# Measure time for element-wise multiplication\n",
    "start = time.time()\n",
    "res = a * b  # NumPy vectorized operation\n",
    "end = time.time()\n",
    "\n",
    "print(f\"Time Taken by NumPy: {end - start}\")"
   ]
  },
  {
   "cell_type": "markdown",
   "id": "e0d80014-7fad-426a-9b2d-6956cdc5254e",
   "metadata": {},
   "source": [
    "sds\n"
   ]
  },
  {
   "cell_type": "markdown",
   "id": "f116b005-72d2-4745-a6fb-38697856b4d6",
   "metadata": {},
   "source": [
    " A positive integer will be know as an Armstrong number in python number in python of order n if \n",
    " abcd ..=an+bn+cn+"
   ]
  },
  {
   "cell_type": "code",
   "execution_count": null,
   "id": "1f2f5730-8759-40dd-ac72-1741bab10d22",
   "metadata": {},
   "outputs": [],
   "source": [
    "import numpy as np \n",
    "def armstorng (number):\n",
    "    orignal_number =number\n",
    "    counts=[]\n",
    "\n",
    "    while number>0\n",
    "        counts.append(number%10)\n",
    "        number//=10\n",
    "\n",
    "    counts=np "
   ]
  }
 ],
 "metadata": {
  "kernelspec": {
   "display_name": "Python 3 (ipykernel)",
   "language": "python",
   "name": "python3"
  },
  "language_info": {
   "codemirror_mode": {
    "name": "ipython",
    "version": 3
   },
   "file_extension": ".py",
   "mimetype": "text/x-python",
   "name": "python",
   "nbconvert_exporter": "python",
   "pygments_lexer": "ipython3",
   "version": "3.12.2"
  }
 },
 "nbformat": 4,
 "nbformat_minor": 5
}
