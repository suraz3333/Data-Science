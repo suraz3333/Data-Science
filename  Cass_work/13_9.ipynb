{
 "cells": [
  {
   "cell_type": "code",
   "execution_count": null,
   "id": "2ec743f2-980b-4045-9716-b43e53298675",
   "metadata": {},
   "outputs": [],
   "source": []
  },
  {
   "cell_type": "code",
   "execution_count": null,
   "id": "fec1a774-9d49-4c09-95a5-520b514cd41c",
   "metadata": {},
   "outputs": [],
   "source": []
  },
  {
   "cell_type": "code",
   "execution_count": null,
   "id": "25be4cbb-9add-4d46-9889-a6cec9adc94a",
   "metadata": {},
   "outputs": [],
   "source": [
    "class Book \n",
    "    def __init__(self, title, author, ISBN)\n",
    "        self.__title = title \n",
    "        self.__author = author \n",
    "        self.__ISBN = ISBN\n",
    "        self.__is_availalbe = False "
   ]
  },
  {
   "cell_type": "code",
   "execution_count": null,
   "id": "a5b3b704-af12-456a-abe3-206af7f1d2d1",
   "metadata": {},
   "outputs": [],
   "source": [
    "class staff(Member)\n",
    "    def __init__(self,name, member_id, position):\n",
    "        super().__init__(name,member_id)\n",
    "        self.posiotin = postion \n",
    "    def get_details (self):\n",
    "        return f\"Member Name: { self.name},Member ID:{"
   ]
  }
 ],
 "metadata": {
  "kernelspec": {
   "display_name": "Python 3 (ipykernel)",
   "language": "python",
   "name": "python3"
  },
  "language_info": {
   "codemirror_mode": {
    "name": "ipython",
    "version": 3
   },
   "file_extension": ".py",
   "mimetype": "text/x-python",
   "name": "python",
   "nbconvert_exporter": "python",
   "pygments_lexer": "ipython3",
   "version": "3.12.2"
  }
 },
 "nbformat": 4,
 "nbformat_minor": 5
}
