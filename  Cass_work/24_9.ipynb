{
 "cells": [
  {
   "cell_type": "code",
   "execution_count": 2,
   "id": "7e176c35-7bbf-4022-9a1a-dd941a57628f",
   "metadata": {},
   "outputs": [
    {
     "ename": "SyntaxError",
     "evalue": "invalid syntax (1872338585.py, line 1)",
     "output_type": "error",
     "traceback": [
      "\u001b[1;36m  Cell \u001b[1;32mIn[2], line 1\u001b[1;36m\u001b[0m\n\u001b[1;33m    import numpyas np\u001b[0m\n\u001b[1;37m                   ^\u001b[0m\n\u001b[1;31mSyntaxError\u001b[0m\u001b[1;31m:\u001b[0m invalid syntax\n"
     ]
    }
   ],
   "source": [
    "import numpyas np"
   ]
  },
  {
   "cell_type": "code",
   "execution_count": 3,
   "id": "6e57559e-2f56-4a67-a8c7-db211570b0ea",
   "metadata": {},
   "outputs": [],
   "source": [
    "import numpy as np"
   ]
  },
  {
   "cell_type": "code",
   "execution_count": 4,
   "id": "1f2b6e29-ca9a-4fe9-b7b9-f33fabe5abd5",
   "metadata": {},
   "outputs": [
    {
     "ename": "SyntaxError",
     "evalue": "invalid syntax (110166245.py, line 1)",
     "output_type": "error",
     "traceback": [
      "\u001b[1;36m  Cell \u001b[1;32mIn[4], line 1\u001b[1;36m\u001b[0m\n\u001b[1;33m    Creating Numpy Array\u001b[0m\n\u001b[1;37m             ^\u001b[0m\n\u001b[1;31mSyntaxError\u001b[0m\u001b[1;31m:\u001b[0m invalid syntax\n"
     ]
    }
   ],
   "source": [
    "Creating Numpy Array"
   ]
  },
  {
   "cell_type": "code",
   "execution_count": 5,
   "id": "e9bfa079-a79a-498c-9f83-e3c53bc37b4e",
   "metadata": {},
   "outputs": [
    {
     "data": {
      "text/plain": [
       "[2, 4, 5]"
      ]
     },
     "execution_count": 5,
     "metadata": {},
     "output_type": "execute_result"
    }
   ],
   "source": [
    "list ((2,4,5))"
   ]
  },
  {
   "cell_type": "code",
   "execution_count": 8,
   "id": "f859d1a2-24f5-4aba-9616-537b60a5f18b",
   "metadata": {},
   "outputs": [],
   "source": [
    "array=np.array([1,4,7])"
   ]
  },
  {
   "cell_type": "code",
   "execution_count": 9,
   "id": "c5ba8a3a-056e-4c4e-bdd6-359e3ce32506",
   "metadata": {},
   "outputs": [
    {
     "data": {
      "text/plain": [
       "numpy.ndarray"
      ]
     },
     "execution_count": 9,
     "metadata": {},
     "output_type": "execute_result"
    }
   ],
   "source": [
    "type(array)"
   ]
  },
  {
   "cell_type": "code",
   "execution_count": 10,
   "id": "b3ed452a-6252-4d71-af4e-1f4563ad4ffe",
   "metadata": {},
   "outputs": [
    {
     "data": {
      "text/plain": [
       "1"
      ]
     },
     "execution_count": 10,
     "metadata": {},
     "output_type": "execute_result"
    }
   ],
   "source": [
    "array.ndim"
   ]
  },
  {
   "cell_type": "code",
   "execution_count": 11,
   "id": "6ff5260b-6eef-4592-8314-ade6bda44c65",
   "metadata": {},
   "outputs": [
    {
     "data": {
      "text/plain": [
       "(3,)"
      ]
     },
     "execution_count": 11,
     "metadata": {},
     "output_type": "execute_result"
    }
   ],
   "source": [
    "array.shape"
   ]
  },
  {
   "cell_type": "code",
   "execution_count": 12,
   "id": "f6ae3ea7-9d52-4bf4-95b6-2f03e6a767ec",
   "metadata": {},
   "outputs": [],
   "source": [
    "list1 =[1,2,3]\n",
    "array =np.array(list1)"
   ]
  },
  {
   "cell_type": "code",
   "execution_count": 13,
   "id": "69dd9bb9-f50f-4f56-95f1-ec77992ce438",
   "metadata": {},
   "outputs": [
    {
     "name": "stdout",
     "output_type": "stream",
     "text": [
      "<class 'numpy.ndarray'>\n",
      "1\n",
      "(3,)\n"
     ]
    }
   ],
   "source": [
    "print (type(array))\n",
    "print (array.ndim)\n",
    "print (array.shape)"
   ]
  },
  {
   "cell_type": "code",
   "execution_count": 16,
   "id": "f3eff900-d587-4b36-948f-c4f9a2359c3c",
   "metadata": {},
   "outputs": [],
   "source": [
    "list2=[\n",
    "    [1,5,9],\n",
    "    [6,8,2]\n",
    "]\n",
    "array2=np.array(list2)"
   ]
  },
  {
   "cell_type": "code",
   "execution_count": 17,
   "id": "10d44c03-a8c6-4393-aa5e-4fc680b0387b",
   "metadata": {},
   "outputs": [
    {
     "name": "stdout",
     "output_type": "stream",
     "text": [
      "[[1 5 9]\n",
      " [6 8 2]]\n",
      "2\n",
      "(2, 3)\n"
     ]
    }
   ],
   "source": [
    "print (array2)\n",
    "print(array2.ndim)\n",
    "print (array2.shape)"
   ]
  },
  {
   "cell_type": "code",
   "execution_count": 18,
   "id": "dfedf364-825f-4cd4-8647-86f02ac6699a",
   "metadata": {},
   "outputs": [
    {
     "name": "stdout",
     "output_type": "stream",
     "text": [
      "[0. 0. 0. 0. 0.]\n"
     ]
    }
   ],
   "source": [
    "print (np.zeros(5))"
   ]
  },
  {
   "cell_type": "code",
   "execution_count": 20,
   "id": "fcf3ede9-7eac-48b6-acc8-7f057669df0a",
   "metadata": {},
   "outputs": [
    {
     "name": "stdout",
     "output_type": "stream",
     "text": [
      "[[0. 0. 0. 0. 0.]\n",
      " [0. 0. 0. 0. 0.]\n",
      " [0. 0. 0. 0. 0.]\n",
      " [0. 0. 0. 0. 0.]\n",
      " [0. 0. 0. 0. 0.]]\n"
     ]
    }
   ],
   "source": [
    "print (np.zeros((5,5)))"
   ]
  },
  {
   "cell_type": "code",
   "execution_count": 22,
   "id": "29e1ea2e-cb76-4966-9adc-7b34d2b5ca95",
   "metadata": {},
   "outputs": [
    {
     "name": "stdout",
     "output_type": "stream",
     "text": [
      "[[2. 2. 2. 2. 2.]\n",
      " [2. 2. 2. 2. 2.]\n",
      " [2. 2. 2. 2. 2.]\n",
      " [2. 2. 2. 2. 2.]\n",
      " [2. 2. 2. 2. 2.]]\n"
     ]
    }
   ],
   "source": [
    "print (np.ones((5,5))+1)"
   ]
  },
  {
   "cell_type": "code",
   "execution_count": 23,
   "id": "d3414149-6036-4d3f-a931-f014cc913a3e",
   "metadata": {},
   "outputs": [
    {
     "ename": "AttributeError",
     "evalue": "module 'numpy' has no attribute 'identify'",
     "output_type": "error",
     "traceback": [
      "\u001b[1;31m---------------------------------------------------------------------------\u001b[0m",
      "\u001b[1;31mAttributeError\u001b[0m                            Traceback (most recent call last)",
      "Cell \u001b[1;32mIn[23], line 1\u001b[0m\n\u001b[1;32m----> 1\u001b[0m \u001b[38;5;28mprint\u001b[39m (\u001b[43mnp\u001b[49m\u001b[38;5;241;43m.\u001b[39;49m\u001b[43midentify\u001b[49m(\u001b[38;5;241m4\u001b[39m))\n",
      "File \u001b[1;32mD:\\Code\\Data_Skill\\.venv\\Lib\\site-packages\\numpy\\__init__.py:428\u001b[0m, in \u001b[0;36m__getattr__\u001b[1;34m(attr)\u001b[0m\n\u001b[0;32m    425\u001b[0m     \u001b[38;5;28;01mimport\u001b[39;00m \u001b[38;5;21;01mnumpy\u001b[39;00m\u001b[38;5;21;01m.\u001b[39;00m\u001b[38;5;21;01mchar\u001b[39;00m \u001b[38;5;28;01mas\u001b[39;00m \u001b[38;5;21;01mchar\u001b[39;00m\n\u001b[0;32m    426\u001b[0m     \u001b[38;5;28;01mreturn\u001b[39;00m char\u001b[38;5;241m.\u001b[39mchararray\n\u001b[1;32m--> 428\u001b[0m \u001b[38;5;28;01mraise\u001b[39;00m \u001b[38;5;167;01mAttributeError\u001b[39;00m(\u001b[38;5;124m\"\u001b[39m\u001b[38;5;124mmodule \u001b[39m\u001b[38;5;132;01m{!r}\u001b[39;00m\u001b[38;5;124m has no attribute \u001b[39m\u001b[38;5;124m\"\u001b[39m\n\u001b[0;32m    429\u001b[0m                      \u001b[38;5;124m\"\u001b[39m\u001b[38;5;132;01m{!r}\u001b[39;00m\u001b[38;5;124m\"\u001b[39m\u001b[38;5;241m.\u001b[39mformat(\u001b[38;5;18m__name__\u001b[39m, attr))\n",
      "\u001b[1;31mAttributeError\u001b[0m: module 'numpy' has no attribute 'identify'"
     ]
    }
   ],
   "source": [
    "print (np.identify(4))"
   ]
  },
  {
   "cell_type": "code",
   "execution_count": 24,
   "id": "acd31fee-edc5-4d16-9a06-3219d4814e5b",
   "metadata": {},
   "outputs": [
    {
     "name": "stdout",
     "output_type": "stream",
     "text": [
      "[[1. 0. 0. 0.]\n",
      " [0. 1. 0. 0.]\n",
      " [0. 0. 1. 0.]\n",
      " [0. 0. 0. 1.]]\n"
     ]
    }
   ],
   "source": [
    "print (np.identity(4))"
   ]
  },
  {
   "cell_type": "code",
   "execution_count": 25,
   "id": "6bb9f271-7e3c-4ca3-bd37-ab9a4a56ebc8",
   "metadata": {},
   "outputs": [
    {
     "name": "stdout",
     "output_type": "stream",
     "text": [
      "[[0.41090765 0.2548366  0.67805981]\n",
      " [0.7590035  0.14571832 0.03282564]]\n"
     ]
    }
   ],
   "source": [
    "print (np.random.rand(2,3))"
   ]
  },
  {
   "cell_type": "code",
   "execution_count": 26,
   "id": "31648d62-31dd-4ed1-9d9a-315768db783a",
   "metadata": {},
   "outputs": [
    {
     "data": {
      "text/plain": [
       "[5, 8, 11, 14, 17, 20, 23, 26, 29, 32, 35, 38, 41, 44, 47, 50, 53]"
      ]
     },
     "execution_count": 26,
     "metadata": {},
     "output_type": "execute_result"
    }
   ],
   "source": [
    "list(range(5,55,3))"
   ]
  },
  {
   "cell_type": "code",
   "execution_count": 27,
   "id": "70799ec0-dcc1-414f-99c9-48ef014f9a90",
   "metadata": {},
   "outputs": [
    {
     "ename": "AttributeError",
     "evalue": "module 'numpy' has no attribute 'arrange'",
     "output_type": "error",
     "traceback": [
      "\u001b[1;31m---------------------------------------------------------------------------\u001b[0m",
      "\u001b[1;31mAttributeError\u001b[0m                            Traceback (most recent call last)",
      "Cell \u001b[1;32mIn[27], line 1\u001b[0m\n\u001b[1;32m----> 1\u001b[0m \u001b[43mnp\u001b[49m\u001b[38;5;241;43m.\u001b[39;49m\u001b[43marrange\u001b[49m(\u001b[38;5;241m1\u001b[39m,\u001b[38;5;241m10\u001b[39m,\u001b[38;5;241m2\u001b[39m)\n",
      "File \u001b[1;32mD:\\Code\\Data_Skill\\.venv\\Lib\\site-packages\\numpy\\__init__.py:428\u001b[0m, in \u001b[0;36m__getattr__\u001b[1;34m(attr)\u001b[0m\n\u001b[0;32m    425\u001b[0m     \u001b[38;5;28;01mimport\u001b[39;00m \u001b[38;5;21;01mnumpy\u001b[39;00m\u001b[38;5;21;01m.\u001b[39;00m\u001b[38;5;21;01mchar\u001b[39;00m \u001b[38;5;28;01mas\u001b[39;00m \u001b[38;5;21;01mchar\u001b[39;00m\n\u001b[0;32m    426\u001b[0m     \u001b[38;5;28;01mreturn\u001b[39;00m char\u001b[38;5;241m.\u001b[39mchararray\n\u001b[1;32m--> 428\u001b[0m \u001b[38;5;28;01mraise\u001b[39;00m \u001b[38;5;167;01mAttributeError\u001b[39;00m(\u001b[38;5;124m\"\u001b[39m\u001b[38;5;124mmodule \u001b[39m\u001b[38;5;132;01m{!r}\u001b[39;00m\u001b[38;5;124m has no attribute \u001b[39m\u001b[38;5;124m\"\u001b[39m\n\u001b[0;32m    429\u001b[0m                      \u001b[38;5;124m\"\u001b[39m\u001b[38;5;132;01m{!r}\u001b[39;00m\u001b[38;5;124m\"\u001b[39m\u001b[38;5;241m.\u001b[39mformat(\u001b[38;5;18m__name__\u001b[39m, attr))\n",
      "\u001b[1;31mAttributeError\u001b[0m: module 'numpy' has no attribute 'arrange'"
     ]
    }
   ],
   "source": [
    "np.arrange(1,10,2)"
   ]
  },
  {
   "cell_type": "code",
   "execution_count": 28,
   "id": "5cce1ff6-6cfa-4920-b885-5aaedc3d97a2",
   "metadata": {},
   "outputs": [
    {
     "data": {
      "text/plain": [
       "array([1, 3, 5, 7, 9])"
      ]
     },
     "execution_count": 28,
     "metadata": {},
     "output_type": "execute_result"
    }
   ],
   "source": [
    "np.arange(1,10,2)"
   ]
  },
  {
   "cell_type": "code",
   "execution_count": 29,
   "id": "997e0f76-2703-4755-96b0-be7f733e9f11",
   "metadata": {},
   "outputs": [
    {
     "ename": "SyntaxError",
     "evalue": "unmatched ')' (3396613378.py, line 1)",
     "output_type": "error",
     "traceback": [
      "\u001b[1;36m  Cell \u001b[1;32mIn[29], line 1\u001b[1;36m\u001b[0m\n\u001b[1;33m    np.arange(2.22,90.67,2.45))\u001b[0m\n\u001b[1;37m                              ^\u001b[0m\n\u001b[1;31mSyntaxError\u001b[0m\u001b[1;31m:\u001b[0m unmatched ')'\n"
     ]
    }
   ],
   "source": [
    "np.arange(2.22,90.67,2.45))"
   ]
  },
  {
   "cell_type": "code",
   "execution_count": 30,
   "id": "49432318-6cac-4a9e-a3e0-b320b37d6cd5",
   "metadata": {},
   "outputs": [
    {
     "data": {
      "text/plain": [
       "array([ 2.22,  4.67,  7.12,  9.57, 12.02, 14.47, 16.92, 19.37, 21.82,\n",
       "       24.27, 26.72, 29.17, 31.62, 34.07, 36.52, 38.97, 41.42, 43.87,\n",
       "       46.32, 48.77, 51.22, 53.67, 56.12, 58.57, 61.02, 63.47, 65.92,\n",
       "       68.37, 70.82, 73.27, 75.72, 78.17, 80.62, 83.07, 85.52, 87.97,\n",
       "       90.42])"
      ]
     },
     "execution_count": 30,
     "metadata": {},
     "output_type": "execute_result"
    }
   ],
   "source": [
    "np.arange(2.22,90.67,2.45)"
   ]
  },
  {
   "cell_type": "code",
   "execution_count": 32,
   "id": "d26c35cf-b391-41ba-8995-136baaf3ff0a",
   "metadata": {},
   "outputs": [
    {
     "name": "stdout",
     "output_type": "stream",
     "text": [
      "[ 0.          0.1010101   0.2020202   0.3030303   0.4040404   0.50505051\n",
      "  0.60606061  0.70707071  0.80808081  0.90909091  1.01010101  1.11111111\n",
      "  1.21212121  1.31313131  1.41414141  1.51515152  1.61616162  1.71717172\n",
      "  1.81818182  1.91919192  2.02020202  2.12121212  2.22222222  2.32323232\n",
      "  2.42424242  2.52525253  2.62626263  2.72727273  2.82828283  2.92929293\n",
      "  3.03030303  3.13131313  3.23232323  3.33333333  3.43434343  3.53535354\n",
      "  3.63636364  3.73737374  3.83838384  3.93939394  4.04040404  4.14141414\n",
      "  4.24242424  4.34343434  4.44444444  4.54545455  4.64646465  4.74747475\n",
      "  4.84848485  4.94949495  5.05050505  5.15151515  5.25252525  5.35353535\n",
      "  5.45454545  5.55555556  5.65656566  5.75757576  5.85858586  5.95959596\n",
      "  6.06060606  6.16161616  6.26262626  6.36363636  6.46464646  6.56565657\n",
      "  6.66666667  6.76767677  6.86868687  6.96969697  7.07070707  7.17171717\n",
      "  7.27272727  7.37373737  7.47474747  7.57575758  7.67676768  7.77777778\n",
      "  7.87878788  7.97979798  8.08080808  8.18181818  8.28282828  8.38383838\n",
      "  8.48484848  8.58585859  8.68686869  8.78787879  8.88888889  8.98989899\n",
      "  9.09090909  9.19191919  9.29292929  9.39393939  9.49494949  9.5959596\n",
      "  9.6969697   9.7979798   9.8989899  10.        ]\n"
     ]
    }
   ],
   "source": [
    "#np.linspace(start,stop, no_element)>linear space \n",
    "array_linespace1=np.linspace(start=0,stop=10,num=100)\n",
    "print (array_linespace1)"
   ]
  },
  {
   "cell_type": "code",
   "execution_count": 35,
   "id": "7c6b9a19-7992-4335-930d-9481f9da683f",
   "metadata": {},
   "outputs": [
    {
     "name": "stdout",
     "output_type": "stream",
     "text": [
      "[[ 0.   0.   0. ]\n",
      " [ 2.5  5.   7.5]\n",
      " [ 5.  10.  15. ]\n",
      " [ 7.5 15.  22.5]\n",
      " [10.  20.  30. ]]\n"
     ]
    }
   ],
   "source": [
    "array_linespace1 = np.linspace(start=(0,0,0), stop =(10,20,30),num=5,axis=0)\n",
    "print(array_linespace1)"
   ]
  },
  {
   "cell_type": "code",
   "execution_count": 38,
   "id": "c50eb9ef-1314-4003-9a44-edcf7e7457cd",
   "metadata": {},
   "outputs": [
    {
     "data": {
      "text/plain": [
       "array([[3, 0, 0, 0],\n",
       "       [0, 6, 0, 0],\n",
       "       [0, 0, 3, 0],\n",
       "       [0, 0, 0, 6]])"
      ]
     },
     "execution_count": 38,
     "metadata": {},
     "output_type": "execute_result"
    }
   ],
   "source": [
    "diag_array= np.diag([3,6,3,6])\n",
    "diag_array"
   ]
  },
  {
   "cell_type": "code",
   "execution_count": 39,
   "id": "57eb77bd-9884-4be0-ae4b-a12176010487",
   "metadata": {},
   "outputs": [
    {
     "name": "stdout",
     "output_type": "stream",
     "text": [
      "[[1. 0. 0. 0. 0. 0.]\n",
      " [0. 1. 0. 0. 0. 0.]\n",
      " [0. 0. 1. 0. 0. 0.]\n",
      " [0. 0. 0. 1. 0. 0.]]\n"
     ]
    }
   ],
   "source": [
    "print (np.eye(N=4,M=6))"
   ]
  },
  {
   "cell_type": "code",
   "execution_count": 40,
   "id": "f0cc906a-c3cf-4577-8b19-df348d823dec",
   "metadata": {},
   "outputs": [
    {
     "ename": "AttributeError",
     "evalue": "module 'numpy.random' has no attribute 'randit'",
     "output_type": "error",
     "traceback": [
      "\u001b[1;31m---------------------------------------------------------------------------\u001b[0m",
      "\u001b[1;31mAttributeError\u001b[0m                            Traceback (most recent call last)",
      "Cell \u001b[1;32mIn[40], line 1\u001b[0m\n\u001b[1;32m----> 1\u001b[0m \u001b[43mnp\u001b[49m\u001b[38;5;241;43m.\u001b[39;49m\u001b[43mrandom\u001b[49m\u001b[38;5;241;43m.\u001b[39;49m\u001b[43mrandit\u001b[49m ()\n",
      "\u001b[1;31mAttributeError\u001b[0m: module 'numpy.random' has no attribute 'randit'"
     ]
    }
   ],
   "source": [
    "np.random.randit ()\n",
    "                                                                    "
   ]
  },
  {
   "cell_type": "code",
   "execution_count": 42,
   "id": "6ebd9f54-69b5-458f-93e5-a1b3f22d384f",
   "metadata": {},
   "outputs": [
    {
     "data": {
      "text/plain": [
       "(1, 2, 3, 4)"
      ]
     },
     "execution_count": 42,
     "metadata": {},
     "output_type": "execute_result"
    }
   ],
   "source": [
    "nDarray=np.random.randint(low=4,high=34,size =(1,2,3,4))\n",
    "nDarray.shape"
   ]
  },
  {
   "cell_type": "code",
   "execution_count": 47,
   "id": "530bf452-438c-4f94-88a4-c1dccf4ddc88",
   "metadata": {},
   "outputs": [
    {
     "data": {
      "text/plain": [
       "(1, 2, 3, 4)"
      ]
     },
     "execution_count": 47,
     "metadata": {},
     "output_type": "execute_result"
    }
   ],
   "source": [
    "nDarray.shape"
   ]
  },
  {
   "cell_type": "code",
   "execution_count": 48,
   "id": "70628dca-882f-44b8-bb6a-a976c421e443",
   "metadata": {},
   "outputs": [
    {
     "data": {
      "text/plain": [
       "array([[[[22, 33, 11,  9],\n",
       "         [14, 29, 27,  8],\n",
       "         [29, 15,  8, 13]],\n",
       "\n",
       "        [[24, 13, 33, 13],\n",
       "         [28, 17, 14, 11],\n",
       "         [25,  5,  4, 16]]]], dtype=int32)"
      ]
     },
     "execution_count": 48,
     "metadata": {},
     "output_type": "execute_result"
    }
   ],
   "source": [
    "nDarray\n"
   ]
  },
  {
   "cell_type": "code",
   "execution_count": null,
   "id": "0a3953c3-d402-4787-bf00-b0c33586d765",
   "metadata": {},
   "outputs": [],
   "source": []
  }
 ],
 "metadata": {
  "kernelspec": {
   "display_name": "Python 3 (ipykernel)",
   "language": "python",
   "name": "python3"
  },
  "language_info": {
   "codemirror_mode": {
    "name": "ipython",
    "version": 3
   },
   "file_extension": ".py",
   "mimetype": "text/x-python",
   "name": "python",
   "nbconvert_exporter": "python",
   "pygments_lexer": "ipython3",
   "version": "3.12.2"
  }
 },
 "nbformat": 4,
 "nbformat_minor": 5
}
