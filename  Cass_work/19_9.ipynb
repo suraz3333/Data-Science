{
 "cells": [
  {
   "cell_type": "code",
   "execution_count": null,
   "id": "ec5f494f-cc54-4e4a-8a07-266d2913459e",
   "metadata": {},
   "outputs": [],
   "source": []
  },
  {
   "cell_type": "code",
   "execution_count": null,
   "id": "14bb7070-ccca-4b07-9137-8b68984e5443",
   "metadata": {},
   "outputs": [],
   "source": []
  },
  {
   "cell_type": "markdown",
   "id": "b536cd96-0143-45be-b293-f7036bc5dad3",
   "metadata": {},
   "source": [
    "## Custom Exception: \n",
    "\n",
    "Define a custom exception NegativeNumberError. Write a function sqrt_of_number that calculates the square root of a number but raises NegativeNumberError if the input is a negative number.\n",
    "\n",
    "```python\n",
    "class NegativeNumberError(Exception):\n",
    "    pass\n",
    "\n",
    "def sqrt_of_number(x):\n",
    "    # Your code here\n",
    "```\n"
   ]
  },
  {
   "cell_type": "code",
   "execution_count": 2,
   "id": "ee6ac94c-733e-43d8-823b-d9be429bc170",
   "metadata": {},
   "outputs": [],
   "source": [
    "class NegativeNumberError(Exception):\n",
    "    pass\n",
    "\n",
    "def sqrt_of_number(x):\n",
    "    try:\n",
    "        result = (x)**0.5\n",
    "    except Valueerror :\n",
    "        result = \"This is negative root\"\n",
    "    except TypeError :\n",
    "        result =\" Enter the number\"\n",
    "    return result \n",
    "    "
   ]
  },
  {
   "cell_type": "code",
   "execution_count": 3,
   "id": "d0bec1ec-f6c6-4933-b6f2-eef2e40d0e9e",
   "metadata": {},
   "outputs": [
    {
     "data": {
      "text/plain": [
       "(1.2246467991473532e-16+2j)"
      ]
     },
     "execution_count": 3,
     "metadata": {},
     "output_type": "execute_result"
    }
   ],
   "source": [
    "sqrt_of_number(-4)"
   ]
  },
  {
   "cell_type": "code",
   "execution_count": 4,
   "id": "87340294-88d6-4a78-871f-9f646f4c413c",
   "metadata": {},
   "outputs": [
    {
     "data": {
      "text/plain": [
       "2.0"
      ]
     },
     "execution_count": 4,
     "metadata": {},
     "output_type": "execute_result"
    }
   ],
   "source": [
    "sqrt_of_number(4)"
   ]
  },
  {
   "cell_type": "code",
   "execution_count": 10,
   "id": "8351f93d-3696-4711-8d3a-af922f054320",
   "metadata": {},
   "outputs": [],
   "source": [
    "def my_decorator (func):\n",
    "    def wrapper():\n",
    "        print(\"Before function execuation\")\n",
    "        func()\n",
    "        print (\"After function execution\" )\n",
    "    return wrapper "
   ]
  },
  {
   "cell_type": "code",
   "execution_count": 11,
   "id": "4ccaa99e-4d9a-4726-9138-791bdf73e24d",
   "metadata": {},
   "outputs": [],
   "source": [
    "@my_decorator\n",
    "def say_hello():\n",
    "    print (\"Hello,world\")"
   ]
  },
  {
   "cell_type": "code",
   "execution_count": null,
   "id": "72f76b5e-40f7-4dc8-928d-488cc64c8691",
   "metadata": {},
   "outputs": [],
   "source": []
  },
  {
   "cell_type": "code",
   "execution_count": null,
   "id": "692cd655-6d9c-4116-82d6-36001d99d86c",
   "metadata": {},
   "outputs": [],
   "source": []
  },
  {
   "cell_type": "code",
   "execution_count": 15,
   "id": "0ec72756-0905-4450-8ab5-d8a9c5100acc",
   "metadata": {},
   "outputs": [],
   "source": [
    "def validate_email(func):\n",
    "    def wrapper(email):\n",
    "        if email.endswith(\"@virt.com\"):\n",
    "            func(user_email)\n",
    "        else:\n",
    "            print (\"Only Virt client are supported\")\n",
    "    return wrapper \n",
    "            "
   ]
  },
  {
   "cell_type": "code",
   "execution_count": 16,
   "id": "60995d43-fa27-46e9-a7ec-368b100f50a4",
   "metadata": {},
   "outputs": [],
   "source": [
    "@validate_email\n",
    "def get_data(email):\n",
    "    print(\"Acessing DB..\")\n",
    "    print (f\"Data fetched by {email}\")"
   ]
  },
  {
   "cell_type": "code",
   "execution_count": 17,
   "id": "aca465da-6506-4002-b7a1-4494d92ce92b",
   "metadata": {},
   "outputs": [
    {
     "name": "stdout",
     "output_type": "stream",
     "text": [
      "Only Virt client are supported\n"
     ]
    }
   ],
   "source": [
    "get_data(\"suraj3@gmail.com\")"
   ]
  },
  {
   "cell_type": "markdown",
   "id": "639f4b03-8306-4a3d-8a27-5bb691a4b700",
   "metadata": {},
   "source": [
    "## Function Timing Decorator: \n",
    "\n",
    "Write a decorator `time_it` that measures the time it takes for a function to execute. \n",
    "\n",
    "*Apply it to a function slow_function that sleeps for 2 seconds and prints \"Done sleeping\".*"
   ]
  },
  {
   "cell_type": "code",
   "execution_count": null,
   "id": "a003965b-3e69-43a5-9145-bace23fa59ed",
   "metadata": {},
   "outputs": [],
   "source": [
    "import time \n",
    "def time_it (func)"
   ]
  }
 ],
 "metadata": {
  "kernelspec": {
   "display_name": "Python 3 (ipykernel)",
   "language": "python",
   "name": "python3"
  },
  "language_info": {
   "codemirror_mode": {
    "name": "ipython",
    "version": 3
   },
   "file_extension": ".py",
   "mimetype": "text/x-python",
   "name": "python",
   "nbconvert_exporter": "python",
   "pygments_lexer": "ipython3",
   "version": "3.12.2"
  }
 },
 "nbformat": 4,
 "nbformat_minor": 5
}
