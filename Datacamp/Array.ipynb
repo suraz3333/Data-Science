{
 "cells": [
  {
   "cell_type": "code",
   "execution_count": 1,
   "id": "71b5a0a9-ab6d-459c-9fc2-b78b44f74757",
   "metadata": {},
   "outputs": [
    {
     "ename": "NameError",
     "evalue": "name 'new_sudoku_game' is not defined",
     "output_type": "error",
     "traceback": [
      "\u001b[1;31m---------------------------------------------------------------------------\u001b[0m",
      "\u001b[1;31mNameError\u001b[0m                                 Traceback (most recent call last)",
      "Cell \u001b[1;32mIn[1], line 3\u001b[0m\n\u001b[0;32m      1\u001b[0m \u001b[38;5;28;01mimport\u001b[39;00m \u001b[38;5;21;01mnumpy\u001b[39;00m \u001b[38;5;28;01mas\u001b[39;00m \u001b[38;5;21;01mnp\u001b[39;00m\n\u001b[0;32m      2\u001b[0m \u001b[38;5;66;03m# Create a second 3D array of another game and its solution \u001b[39;00m\n\u001b[1;32m----> 3\u001b[0m new_game_and_solution \u001b[38;5;241m=\u001b[39m np\u001b[38;5;241m.\u001b[39marray([\u001b[43mnew_sudoku_game\u001b[49m,new_sudoku_solution])\n\u001b[0;32m      4\u001b[0m \u001b[38;5;66;03m# Create a 4D array of both game and solution 3D arrays\u001b[39;00m\n\u001b[0;32m      5\u001b[0m games_and_solutions \u001b[38;5;241m=\u001b[39m np\u001b[38;5;241m.\u001b[39marray([game_and_solution,new_game_and_solution])\n",
      "\u001b[1;31mNameError\u001b[0m: name 'new_sudoku_game' is not defined"
     ]
    }
   ],
   "source": [
    "import numpy as np\n",
    "# Create a second 3D array of another game and its solution \n",
    "new_game_and_solution = np.array([new_sudoku_game,new_sudoku_solution])\n",
    "# Create a 4D array of both game and solution 3D arrays\n",
    "games_and_solutions = np.array([game_and_solution,new_game_and_solution])\n",
    "# Print the shape of your 4D array\n",
    "print(games_and_solutions.shape)"
   ]
  },
  {
   "cell_type": "code",
   "execution_count": 6,
   "id": "8b1be804-2be9-4144-8d05-069d537692df",
   "metadata": {},
   "outputs": [
    {
     "name": "stdout",
     "output_type": "stream",
     "text": [
      "(2, 9, 9, 2)\n"
     ]
    }
   ],
   "source": [
    "new_sudoku_game =np.random.randint(1,10,size=(9,9,1))\n",
    "new_sudoku_solution = np.random.randint(1,10,size =(9,9,1))\n",
    "game_and_solution =np.random.randint(1,10,size=(9,9,2))\n",
    "\n",
    "new_game_and_solution = np.concatenate((new_sudoku_game, new_sudoku_solution),axis=-1)\n",
    "games_and_solutions = np.array([game_and_solution, new_game_and_solution])\n",
    "print(games_and_solutions.shape)\n"
   ]
  },
  {
   "cell_type": "code",
   "execution_count": null,
   "id": "c855427c-0c82-4396-b480-0449476463d9",
   "metadata": {},
   "outputs": [],
   "source": []
  }
 ],
 "metadata": {
  "kernelspec": {
   "display_name": "Python 3 (ipykernel)",
   "language": "python",
   "name": "python3"
  },
  "language_info": {
   "codemirror_mode": {
    "name": "ipython",
    "version": 3
   },
   "file_extension": ".py",
   "mimetype": "text/x-python",
   "name": "python",
   "nbconvert_exporter": "python",
   "pygments_lexer": "ipython3",
   "version": "3.12.2"
  }
 },
 "nbformat": 4,
 "nbformat_minor": 5
}
