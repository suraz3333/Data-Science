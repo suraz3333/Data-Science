{
 "cells": [
  {
   "cell_type": "code",
   "execution_count": 1,
   "id": "6ebc8543-e1e5-4d7d-ab44-01fc7606685d",
   "metadata": {},
   "outputs": [],
   "source": [
    "import pandas as pd\n",
    "import seaborn as sns\n",
    "import scipy.stats as stats"
   ]
  },
  {
   "cell_type": "code",
   "execution_count": 2,
   "id": "97871158-826d-454c-8817-24e2580fcb33",
   "metadata": {},
   "outputs": [],
   "source": [
    "columns_name = [\n",
    "    'timestamp','sex','matric_gpa_%' ,'study_year','faculty','gpa_%_2023','accommodation_status',\n",
    "    'monthly_allowance','scholarship','study_hours_week','socialising_week','drinks_night',\n",
    "    'classes_missed','modules_failed','in_relationship','parental_approval','relationship_parents'\n",
    "]\n",
    "\n",
    "survey_df = pd.read_csv(\"student_survey.csv\", names = columns_name, header=0)"
   ]
  },
  {
   "cell_type": "markdown",
   "id": "a4f1404f-0923-4501-a67b-2c47c80ed0eb",
   "metadata": {},
   "source": [
    "## Manipulation and Cleaning Data"
   ]
  },
  {
   "cell_type": "code",
   "execution_count": 3,
   "id": "4b8e908d-3c2d-4edb-a38f-1a017972520d",
   "metadata": {},
   "outputs": [
    {
     "name": "stdout",
     "output_type": "stream",
     "text": [
      "<class 'pandas.core.frame.DataFrame'>\n",
      "RangeIndex: 406 entries, 0 to 405\n",
      "Data columns (total 17 columns):\n",
      " #   Column                Non-Null Count  Dtype  \n",
      "---  ------                --------------  -----  \n",
      " 0   timestamp             406 non-null    object \n",
      " 1   sex                   404 non-null    object \n",
      " 2   matric_gpa_%          399 non-null    float64\n",
      " 3   study_year            333 non-null    object \n",
      " 4   faculty               399 non-null    object \n",
      " 5   gpa_%_2023            320 non-null    float64\n",
      " 6   accommodation_status  383 non-null    object \n",
      " 7   monthly_allowance     375 non-null    object \n",
      " 8   scholarship           398 non-null    object \n",
      " 9   study_hours_week      403 non-null    object \n",
      " 10  socialising_week      404 non-null    object \n",
      " 11  drinks_night          404 non-null    object \n",
      " 12  classes_missed        403 non-null    object \n",
      " 13  modules_failed        403 non-null    object \n",
      " 14  in_relationship       403 non-null    object \n",
      " 15  parental_approval     402 non-null    object \n",
      " 16  relationship_parents  403 non-null    object \n",
      "dtypes: float64(2), object(15)\n",
      "memory usage: 54.0+ KB\n"
     ]
    }
   ],
   "source": [
    "survey_df.info()"
   ]
  },
  {
   "cell_type": "markdown",
   "id": "210fdd67-f9b1-4e0b-915d-370d57eec3e3",
   "metadata": {
    "scrolled": true
   },
   "source": [
    "> Colums and Rows \n",
    "> outlier\n",
    "> Data Error Handling\n",
    "> Null Values Handling\n",
    "> Feature selection"
   ]
  },
  {
   "cell_type": "code",
   "execution_count": 4,
   "id": "ed5131cb-ccac-47e0-bc95-b3c2ff786c96",
   "metadata": {},
   "outputs": [],
   "source": [
    "# Deleting Timestamp column\n",
    "survey_df.drop([\"timestamp\"], axis = 1, inplace =True)"
   ]
  },
  {
   "cell_type": "code",
   "execution_count": 5,
   "id": "27d5d3f9-24df-44a7-ae25-8ff6a6b23642",
   "metadata": {},
   "outputs": [
    {
     "data": {
      "text/html": [
       "<div>\n",
       "<style scoped>\n",
       "    .dataframe tbody tr th:only-of-type {\n",
       "        vertical-align: middle;\n",
       "    }\n",
       "\n",
       "    .dataframe tbody tr th {\n",
       "        vertical-align: top;\n",
       "    }\n",
       "\n",
       "    .dataframe thead th {\n",
       "        text-align: right;\n",
       "    }\n",
       "</style>\n",
       "<table border=\"1\" class=\"dataframe\">\n",
       "  <thead>\n",
       "    <tr style=\"text-align: right;\">\n",
       "      <th></th>\n",
       "      <th>sex</th>\n",
       "      <th>matric_gpa_%</th>\n",
       "      <th>study_year</th>\n",
       "      <th>faculty</th>\n",
       "      <th>gpa_%_2023</th>\n",
       "      <th>accommodation_status</th>\n",
       "      <th>monthly_allowance</th>\n",
       "      <th>scholarship</th>\n",
       "      <th>study_hours_week</th>\n",
       "      <th>socialising_week</th>\n",
       "      <th>drinks_night</th>\n",
       "      <th>classes_missed</th>\n",
       "      <th>modules_failed</th>\n",
       "      <th>in_relationship</th>\n",
       "      <th>parental_approval</th>\n",
       "      <th>relationship_parents</th>\n",
       "    </tr>\n",
       "  </thead>\n",
       "  <tbody>\n",
       "    <tr>\n",
       "      <th>0</th>\n",
       "      <td>Female</td>\n",
       "      <td>76.0</td>\n",
       "      <td>2nd Year</td>\n",
       "      <td>Arts &amp; Social Sciences</td>\n",
       "      <td>72.0</td>\n",
       "      <td>Private accommodation/ stay with family/friends</td>\n",
       "      <td>R 4001- R 5000</td>\n",
       "      <td>No</td>\n",
       "      <td>8+</td>\n",
       "      <td>Only weekends</td>\n",
       "      <td>8+</td>\n",
       "      <td>3</td>\n",
       "      <td>0</td>\n",
       "      <td>Yes</td>\n",
       "      <td>Yes</td>\n",
       "      <td>Very close</td>\n",
       "    </tr>\n",
       "    <tr>\n",
       "      <th>1</th>\n",
       "      <td>Male</td>\n",
       "      <td>89.0</td>\n",
       "      <td>2nd Year</td>\n",
       "      <td>Economic &amp; Management Sciences</td>\n",
       "      <td>75.0</td>\n",
       "      <td>Private accommodation/ stay with family/friends</td>\n",
       "      <td>R 7001 - R 8000</td>\n",
       "      <td>Yes (NSFAS, etc...)</td>\n",
       "      <td>8+</td>\n",
       "      <td>Only weekends</td>\n",
       "      <td>3-5</td>\n",
       "      <td>4+</td>\n",
       "      <td>0</td>\n",
       "      <td>No</td>\n",
       "      <td>Yes</td>\n",
       "      <td>Very close</td>\n",
       "    </tr>\n",
       "    <tr>\n",
       "      <th>2</th>\n",
       "      <td>Male</td>\n",
       "      <td>76.0</td>\n",
       "      <td>1st Year</td>\n",
       "      <td>AgriSciences</td>\n",
       "      <td>55.0</td>\n",
       "      <td>Private accommodation/ stay with family/friends</td>\n",
       "      <td>R 4001- R 5000</td>\n",
       "      <td>No</td>\n",
       "      <td>3-5</td>\n",
       "      <td>2</td>\n",
       "      <td>8+</td>\n",
       "      <td>3</td>\n",
       "      <td>0</td>\n",
       "      <td>No</td>\n",
       "      <td>Yes</td>\n",
       "      <td>Very close</td>\n",
       "    </tr>\n",
       "    <tr>\n",
       "      <th>3</th>\n",
       "      <td>Male</td>\n",
       "      <td>89.0</td>\n",
       "      <td>2nd Year</td>\n",
       "      <td>Engineering</td>\n",
       "      <td>84.0</td>\n",
       "      <td>Private accommodation/ stay with family/friends</td>\n",
       "      <td>R 6001 - R 7000</td>\n",
       "      <td>No</td>\n",
       "      <td>3-5</td>\n",
       "      <td>3</td>\n",
       "      <td>8+</td>\n",
       "      <td>2</td>\n",
       "      <td>0</td>\n",
       "      <td>Yes</td>\n",
       "      <td>Yes</td>\n",
       "      <td>Very close</td>\n",
       "    </tr>\n",
       "    <tr>\n",
       "      <th>4</th>\n",
       "      <td>Female</td>\n",
       "      <td>74.0</td>\n",
       "      <td>2nd Year</td>\n",
       "      <td>Arts &amp; Social Sciences</td>\n",
       "      <td>52.0</td>\n",
       "      <td>Private accommodation/ stay with family/friends</td>\n",
       "      <td>R 4001- R 5000</td>\n",
       "      <td>No</td>\n",
       "      <td>3-5</td>\n",
       "      <td>Only weekends</td>\n",
       "      <td>5-8</td>\n",
       "      <td>1</td>\n",
       "      <td>3</td>\n",
       "      <td>No</td>\n",
       "      <td>Yes</td>\n",
       "      <td>Fair</td>\n",
       "    </tr>\n",
       "  </tbody>\n",
       "</table>\n",
       "</div>"
      ],
      "text/plain": [
       "      sex  matric_gpa_% study_year                         faculty  \\\n",
       "0  Female          76.0   2nd Year          Arts & Social Sciences   \n",
       "1    Male          89.0   2nd Year  Economic & Management Sciences   \n",
       "2    Male          76.0   1st Year                    AgriSciences   \n",
       "3    Male          89.0   2nd Year                     Engineering   \n",
       "4  Female          74.0   2nd Year          Arts & Social Sciences   \n",
       "\n",
       "   gpa_%_2023                             accommodation_status  \\\n",
       "0        72.0  Private accommodation/ stay with family/friends   \n",
       "1        75.0  Private accommodation/ stay with family/friends   \n",
       "2        55.0  Private accommodation/ stay with family/friends   \n",
       "3        84.0  Private accommodation/ stay with family/friends   \n",
       "4        52.0  Private accommodation/ stay with family/friends   \n",
       "\n",
       "  monthly_allowance          scholarship study_hours_week socialising_week  \\\n",
       "0    R 4001- R 5000                   No               8+    Only weekends   \n",
       "1   R 7001 - R 8000  Yes (NSFAS, etc...)               8+    Only weekends   \n",
       "2    R 4001- R 5000                   No              3-5                2   \n",
       "3   R 6001 - R 7000                   No              3-5                3   \n",
       "4    R 4001- R 5000                   No              3-5    Only weekends   \n",
       "\n",
       "  drinks_night classes_missed modules_failed in_relationship  \\\n",
       "0           8+              3              0             Yes   \n",
       "1          3-5             4+              0              No   \n",
       "2           8+              3              0              No   \n",
       "3           8+              2              0             Yes   \n",
       "4          5-8              1              3              No   \n",
       "\n",
       "  parental_approval relationship_parents  \n",
       "0               Yes           Very close  \n",
       "1               Yes           Very close  \n",
       "2               Yes           Very close  \n",
       "3               Yes           Very close  \n",
       "4               Yes                 Fair  "
      ]
     },
     "execution_count": 5,
     "metadata": {},
     "output_type": "execute_result"
    }
   ],
   "source": [
    "survey_df.head()"
   ]
  },
  {
   "cell_type": "code",
   "execution_count": 6,
   "id": "0a5c1525-aaa3-4f87-85f2-d27e73cdcd5b",
   "metadata": {},
   "outputs": [
    {
     "data": {
      "text/plain": [
       "(406, 16)"
      ]
     },
     "execution_count": 6,
     "metadata": {},
     "output_type": "execute_result"
    }
   ],
   "source": [
    "survey_df.shape"
   ]
  },
  {
   "cell_type": "code",
   "execution_count": 7,
   "id": "fd7cba72-45cf-4f1f-a32c-e404042585c5",
   "metadata": {},
   "outputs": [
    {
     "data": {
      "text/html": [
       "<div>\n",
       "<style scoped>\n",
       "    .dataframe tbody tr th:only-of-type {\n",
       "        vertical-align: middle;\n",
       "    }\n",
       "\n",
       "    .dataframe tbody tr th {\n",
       "        vertical-align: top;\n",
       "    }\n",
       "\n",
       "    .dataframe thead th {\n",
       "        text-align: right;\n",
       "    }\n",
       "</style>\n",
       "<table border=\"1\" class=\"dataframe\">\n",
       "  <thead>\n",
       "    <tr style=\"text-align: right;\">\n",
       "      <th></th>\n",
       "      <th>matric_gpa_%</th>\n",
       "      <th>gpa_%_2023</th>\n",
       "    </tr>\n",
       "  </thead>\n",
       "  <tbody>\n",
       "    <tr>\n",
       "      <th>count</th>\n",
       "      <td>399.000000</td>\n",
       "      <td>320.000000</td>\n",
       "    </tr>\n",
       "    <tr>\n",
       "      <th>mean</th>\n",
       "      <td>77.989724</td>\n",
       "      <td>66.268469</td>\n",
       "    </tr>\n",
       "    <tr>\n",
       "      <th>std</th>\n",
       "      <td>7.048618</td>\n",
       "      <td>9.147906</td>\n",
       "    </tr>\n",
       "    <tr>\n",
       "      <th>min</th>\n",
       "      <td>34.000000</td>\n",
       "      <td>30.000000</td>\n",
       "    </tr>\n",
       "    <tr>\n",
       "      <th>25%</th>\n",
       "      <td>74.000000</td>\n",
       "      <td>60.000000</td>\n",
       "    </tr>\n",
       "    <tr>\n",
       "      <th>50%</th>\n",
       "      <td>78.000000</td>\n",
       "      <td>65.000000</td>\n",
       "    </tr>\n",
       "    <tr>\n",
       "      <th>75%</th>\n",
       "      <td>83.000000</td>\n",
       "      <td>73.000000</td>\n",
       "    </tr>\n",
       "    <tr>\n",
       "      <th>max</th>\n",
       "      <td>99.000000</td>\n",
       "      <td>95.220000</td>\n",
       "    </tr>\n",
       "  </tbody>\n",
       "</table>\n",
       "</div>"
      ],
      "text/plain": [
       "       matric_gpa_%  gpa_%_2023\n",
       "count    399.000000  320.000000\n",
       "mean      77.989724   66.268469\n",
       "std        7.048618    9.147906\n",
       "min       34.000000   30.000000\n",
       "25%       74.000000   60.000000\n",
       "50%       78.000000   65.000000\n",
       "75%       83.000000   73.000000\n",
       "max       99.000000   95.220000"
      ]
     },
     "execution_count": 7,
     "metadata": {},
     "output_type": "execute_result"
    }
   ],
   "source": [
    "# Outlier Handling\n",
    "num_columns = ['matric_gpa_%','gpa_%_2023']\n",
    "survey_df.describe()"
   ]
  },
  {
   "cell_type": "code",
   "execution_count": 12,
   "id": "6cbf6f39-4baa-43dc-bc3b-19a48100ca1e",
   "metadata": {},
   "outputs": [],
   "source": [
    "# Handling outlier with IQR\n",
    "def handle_outlier(dataframe: pd.DataFrame, columns : list[str]):\n",
    "    \n",
    "    all_index_to_drop = []\n",
    "    \n",
    "    for every in columns:\n",
    "        q1 = dataframe[every].quantile(0.25)\n",
    "        q3 = dataframe[every].quantile(0.75)\n",
    "        max_value = 1.5 * (q3 - q1) + q3 \n",
    "        min_value = q1 - 1.5 * (q3 - q1)\n",
    "\n",
    "        to_drop_index = dataframe[every][(dataframe[every] > max_value) | (dataframe[every] < min_value)].index\n",
    "        \n",
    "        dataframe = dataframe.drop(to_drop_index, axis = 0, inplace=False)\n",
    "        \n",
    "        all_index_to_drop.extend(to_drop_index)\n",
    "        \n",
    "    return dataframe, all_index_to_drop"
   ]
  },
  {
   "cell_type": "code",
   "execution_count": 13,
   "id": "d3df7ab4-e088-482b-886a-e1e575dd7a64",
   "metadata": {},
   "outputs": [],
   "source": [
    "survey_df_no_outlier , info = handle_outlier(survey_df, num_columns)"
   ]
  },
  {
   "cell_type": "code",
   "execution_count": null,
   "id": "6283a50a-7e61-4771-8126-930f937c03a2",
   "metadata": {},
   "outputs": [],
   "source": []
  },
  {
   "cell_type": "code",
   "execution_count": 18,
   "id": "171f3aab-978b-4963-bc4a-ce1f6399c218",
   "metadata": {},
   "outputs": [
    {
     "data": {
      "text/plain": [
       "sex                      2\n",
       "matric_gpa_%             7\n",
       "study_year              72\n",
       "faculty                  7\n",
       "gpa_%_2023              84\n",
       "accommodation_status    23\n",
       "monthly_allowance       31\n",
       "scholarship              8\n",
       "study_hours_week         3\n",
       "socialising_week         2\n",
       "drinks_night             2\n",
       "classes_missed           3\n",
       "modules_failed           3\n",
       "in_relationship          3\n",
       "parental_approval        3\n",
       "relationship_parents     3\n",
       "dtype: int64"
      ]
     },
     "execution_count": 18,
     "metadata": {},
     "output_type": "execute_result"
    }
   ],
   "source": [
    "# HAndling Null Values\n",
    "survey_df_no_outlier.isna().sum()"
   ]
  },
  {
   "cell_type": "code",
   "execution_count": 31,
   "id": "08290014-40ff-409e-a4a7-36dae4a53630",
   "metadata": {},
   "outputs": [],
   "source": [
    "survey_df_no_outlier = survey_df_no_outlier[~ (survey_df_no_outlier.isna().sum(axis=1) >=5)]"
   ]
  },
  {
   "cell_type": "code",
   "execution_count": 36,
   "id": "becdfd92-ce25-4596-8f54-a6cdcf20c873",
   "metadata": {},
   "outputs": [
    {
     "data": {
      "text/plain": [
       "sex                      0\n",
       "matric_gpa_%             5\n",
       "study_year               0\n",
       "faculty                  5\n",
       "gpa_%_2023              78\n",
       "accommodation_status    17\n",
       "monthly_allowance       25\n",
       "scholarship              2\n",
       "study_hours_week         1\n",
       "socialising_week         0\n",
       "drinks_night             0\n",
       "classes_missed           1\n",
       "modules_failed           1\n",
       "in_relationship          1\n",
       "parental_approval        1\n",
       "relationship_parents     1\n",
       "dtype: int64"
      ]
     },
     "execution_count": 36,
     "metadata": {},
     "output_type": "execute_result"
    }
   ],
   "source": [
    "survey_df_no_outlier.isna().sum()"
   ]
  },
  {
   "cell_type": "code",
   "execution_count": 33,
   "id": "bc83c798-50b5-466f-9b96-99ec4c6e3267",
   "metadata": {},
   "outputs": [
    {
     "data": {
      "text/plain": [
       "study_year\n",
       "2nd Year        149\n",
       "1st Year        124\n",
       "NaN              66\n",
       "3rd Year         40\n",
       "4th Year          7\n",
       "Postgraduate      5\n",
       "Name: count, dtype: int64"
      ]
     },
     "execution_count": 33,
     "metadata": {},
     "output_type": "execute_result"
    }
   ],
   "source": [
    "survey_df_no_outlier.study_year.value_counts(dropna= False)"
   ]
  },
  {
   "cell_type": "code",
   "execution_count": 34,
   "id": "9f1a0345-d5eb-4c72-8187-bb6539c952ed",
   "metadata": {},
   "outputs": [
    {
     "name": "stderr",
     "output_type": "stream",
     "text": [
      "/tmp/ipykernel_30476/3779120542.py:1: FutureWarning: A value is trying to be set on a copy of a DataFrame or Series through chained assignment using an inplace method.\n",
      "The behavior will change in pandas 3.0. This inplace method will never work because the intermediate object on which we are setting values always behaves as a copy.\n",
      "\n",
      "For example, when doing 'df[col].method(value, inplace=True)', try using 'df.method({col: value}, inplace=True)' or df[col] = df[col].method(value) instead, to perform the operation inplace on the original object.\n",
      "\n",
      "\n",
      "  survey_df_no_outlier[\"study_year\"].fillna(value = \"0th Year\", inplace=True)\n"
     ]
    }
   ],
   "source": [
    "survey_df_no_outlier[\"study_year\"].fillna(value = \"0th Year\", inplace=True)"
   ]
  },
  {
   "cell_type": "code",
   "execution_count": 35,
   "id": "ca94dfd5-3c7c-48d1-9deb-91063bd875e3",
   "metadata": {},
   "outputs": [
    {
     "data": {
      "text/plain": [
       "study_year\n",
       "2nd Year        149\n",
       "1st Year        124\n",
       "0th Year         66\n",
       "3rd Year         40\n",
       "4th Year          7\n",
       "Postgraduate      5\n",
       "Name: count, dtype: int64"
      ]
     },
     "execution_count": 35,
     "metadata": {},
     "output_type": "execute_result"
    }
   ],
   "source": [
    "survey_df_no_outlier.study_year.value_counts(dropna= False)"
   ]
  },
  {
   "cell_type": "code",
   "execution_count": null,
   "id": "3d2306df-0e01-40f6-9130-ff95e0e37cd9",
   "metadata": {},
   "outputs": [],
   "source": []
  },
  {
   "cell_type": "code",
   "execution_count": 39,
   "id": "36b9774c-8236-488d-b725-84bbf3f19988",
   "metadata": {},
   "outputs": [],
   "source": [
    "grouped = survey_df_no_outlier[[\"matric_gpa_%\", \"faculty\"]].groupby(\"faculty\")"
   ]
  },
  {
   "cell_type": "code",
   "execution_count": 43,
   "id": "c0b29bdb-7991-4dc2-bb61-19efb9daca28",
   "metadata": {},
   "outputs": [
    {
     "name": "stderr",
     "output_type": "stream",
     "text": [
      "/tmp/ipykernel_30476/3680517130.py:1: FutureWarning: A value is trying to be set on a copy of a DataFrame or Series through chained assignment using an inplace method.\n",
      "The behavior will change in pandas 3.0. This inplace method will never work because the intermediate object on which we are setting values always behaves as a copy.\n",
      "\n",
      "For example, when doing 'df[col].method(value, inplace=True)', try using 'df.method({col: value}, inplace=True)' or df[col] = df[col].method(value) instead, to perform the operation inplace on the original object.\n",
      "\n",
      "\n",
      "  survey_df_no_outlier['matric_gpa_%'].fillna(grouped['matric_gpa_%'].transform('mean'), inplace = True)\n"
     ]
    }
   ],
   "source": [
    "survey_df_no_outlier['matric_gpa_%'].fillna(grouped['matric_gpa_%'].transform('mean'), inplace = True)"
   ]
  },
  {
   "cell_type": "code",
   "execution_count": 45,
   "id": "1646a9de-c7c3-4e36-a896-42e660ea846d",
   "metadata": {},
   "outputs": [
    {
     "data": {
      "text/plain": [
       "sex                      0\n",
       "matric_gpa_%             0\n",
       "study_year               0\n",
       "faculty                  5\n",
       "gpa_%_2023              78\n",
       "accommodation_status    17\n",
       "monthly_allowance       25\n",
       "scholarship              2\n",
       "study_hours_week         1\n",
       "socialising_week         0\n",
       "drinks_night             0\n",
       "classes_missed           1\n",
       "modules_failed           1\n",
       "in_relationship          1\n",
       "parental_approval        1\n",
       "relationship_parents     1\n",
       "dtype: int64"
      ]
     },
     "execution_count": 45,
     "metadata": {},
     "output_type": "execute_result"
    }
   ],
   "source": [
    "survey_df_no_outlier.isna().sum()"
   ]
  },
  {
   "cell_type": "code",
   "execution_count": 47,
   "id": "53a002b7-4ed1-458b-a6d3-b93b994b9bb8",
   "metadata": {},
   "outputs": [
    {
     "name": "stderr",
     "output_type": "stream",
     "text": [
      "/tmp/ipykernel_30476/1191430135.py:8: FutureWarning: A value is trying to be set on a copy of a DataFrame or Series through chained assignment using an inplace method.\n",
      "The behavior will change in pandas 3.0. This inplace method will never work because the intermediate object on which we are setting values always behaves as a copy.\n",
      "\n",
      "For example, when doing 'df[col].method(value, inplace=True)', try using 'df.method({col: value}, inplace=True)' or df[col] = df[col].method(value) instead, to perform the operation inplace on the original object.\n",
      "\n",
      "\n",
      "  survey_df_no_outlier[each].fillna(mode_val, inplace = True)\n",
      "/tmp/ipykernel_30476/1191430135.py:13: FutureWarning: A value is trying to be set on a copy of a DataFrame or Series through chained assignment using an inplace method.\n",
      "The behavior will change in pandas 3.0. This inplace method will never work because the intermediate object on which we are setting values always behaves as a copy.\n",
      "\n",
      "For example, when doing 'df[col].method(value, inplace=True)', try using 'df.method({col: value}, inplace=True)' or df[col] = df[col].method(value) instead, to perform the operation inplace on the original object.\n",
      "\n",
      "\n",
      "  survey_df_no_outlier[each].fillna('Unknown', inplace=True)\n"
     ]
    }
   ],
   "source": [
    "# Replace categorical values with it mode\n",
    "cat_cols = [\n",
    "    'faculty','study_hours_week','monthly_allowance', 'classes_missed',\n",
    "    'modules_failed','in_relationship','parental_approval','relationship_parents'\n",
    "]\n",
    "for each in cat_cols:\n",
    "    mode_val = survey_df_no_outlier[each].mode()[0]\n",
    "    survey_df_no_outlier[each].fillna(mode_val, inplace = True)\n",
    "\n",
    "# Creating new feature with NaN value\n",
    "unknown_nan = ['accommodation_status','scholarship']\n",
    "for each in unknown_nan:\n",
    "    survey_df_no_outlier[each].fillna('Unknown', inplace=True)"
   ]
  },
  {
   "cell_type": "code",
   "execution_count": 48,
   "id": "e1feaccd-0f22-47b4-a18c-7bda6bee8c3d",
   "metadata": {},
   "outputs": [
    {
     "data": {
      "text/plain": [
       "sex                      0\n",
       "matric_gpa_%             0\n",
       "study_year               0\n",
       "faculty                  0\n",
       "gpa_%_2023              78\n",
       "accommodation_status     0\n",
       "monthly_allowance        0\n",
       "scholarship              0\n",
       "study_hours_week         0\n",
       "socialising_week         0\n",
       "drinks_night             0\n",
       "classes_missed           0\n",
       "modules_failed           0\n",
       "in_relationship          0\n",
       "parental_approval        0\n",
       "relationship_parents     0\n",
       "dtype: int64"
      ]
     },
     "execution_count": 48,
     "metadata": {},
     "output_type": "execute_result"
    }
   ],
   "source": [
    "survey_df_no_outlier.isna().sum()"
   ]
  },
  {
   "cell_type": "code",
   "execution_count": 51,
   "id": "148ddfc9-692a-4638-b954-64764c94845d",
   "metadata": {},
   "outputs": [],
   "source": [
    "survey_df_no_outlier.dropna(inplace = True)"
   ]
  },
  {
   "cell_type": "code",
   "execution_count": 54,
   "id": "ed18f6d9-da63-4915-a4f4-a58549a3046d",
   "metadata": {},
   "outputs": [
    {
     "name": "stdout",
     "output_type": "stream",
     "text": [
      "<class 'pandas.core.frame.DataFrame'>\n",
      "Index: 313 entries, 0 to 405\n",
      "Data columns (total 16 columns):\n",
      " #   Column                Non-Null Count  Dtype  \n",
      "---  ------                --------------  -----  \n",
      " 0   sex                   313 non-null    object \n",
      " 1   matric_gpa_%          313 non-null    float64\n",
      " 2   study_year            313 non-null    object \n",
      " 3   faculty               313 non-null    object \n",
      " 4   gpa_%_2023            313 non-null    float64\n",
      " 5   accommodation_status  313 non-null    object \n",
      " 6   monthly_allowance     313 non-null    object \n",
      " 7   scholarship           313 non-null    object \n",
      " 8   study_hours_week      313 non-null    object \n",
      " 9   socialising_week      313 non-null    object \n",
      " 10  drinks_night          313 non-null    object \n",
      " 11  classes_missed        313 non-null    object \n",
      " 12  modules_failed        313 non-null    object \n",
      " 13  in_relationship       313 non-null    object \n",
      " 14  parental_approval     313 non-null    object \n",
      " 15  relationship_parents  313 non-null    object \n",
      "dtypes: float64(2), object(14)\n",
      "memory usage: 41.6+ KB\n"
     ]
    }
   ],
   "source": [
    "survey_df_no_outlier.info()"
   ]
  },
  {
   "cell_type": "code",
   "execution_count": null,
   "id": "73f0f781-f125-4454-824e-82425c13026c",
   "metadata": {},
   "outputs": [],
   "source": []
  }
 ],
 "metadata": {
  "kernelspec": {
   "display_name": "Python 3 (ipykernel)",
   "language": "python",
   "name": "python3"
  },
  "language_info": {
   "codemirror_mode": {
    "name": "ipython",
    "version": 3
   },
   "file_extension": ".py",
   "mimetype": "text/x-python",
   "name": "python",
   "nbconvert_exporter": "python",
   "pygments_lexer": "ipython3",
   "version": "3.10.12"
  }
 },
 "nbformat": 4,
 "nbformat_minor": 5
}
